{
 "cells": [
  {
   "cell_type": "code",
   "execution_count": null,
   "id": "462831a2",
   "metadata": {},
   "outputs": [],
   "source": [
    "import numpy as np\n",
    "import tensorflow as tf\n",
    "from tensorflow.keras import layers, models\n",
    "from tensorflow.keras.utils import to_categorical\n",
    "from tensorflow.keras.datasets import mnist\n",
    "from PIL import Image, ImageOps\n",
    "import matplotlib.pyplot as plt"
   ]
  },
  {
   "cell_type": "code",
   "execution_count": 8,
   "id": "f52732a2",
   "metadata": {},
   "outputs": [],
   "source": [
    "#Load MNIST Dataset:\n",
    "(train_images, train_labels), (test_images, test_labels) = mnist.load_data()\n"
   ]
  },
  {
   "cell_type": "code",
   "execution_count": 9,
   "id": "e2708a0b",
   "metadata": {},
   "outputs": [],
   "source": [
    "#Preprocessing or Normalizing the pixel values to be between 0 and 1\n",
    "\n",
    "train_images = train_images / 255.0\n",
    "test_images = test_images / 255.0\n",
    "\n",
    "# Reshape the images into 3 dimensions as cnn excepts each images into such and mnists data is greyscale:\n",
    "train_images = train_images.reshape((train_images.shape[0], 28,28,1))\n",
    "test_images = test_images.reshape((test_images.shape[0], 28,28,1))\n",
    "\n",
    "#Covert the labels into one-hot encoded format:\n",
    "train_labels = to_categorical(train_labels)\n",
    "test_labels = to_categorical(test_labels)"
   ]
  },
  {
   "cell_type": "code",
   "execution_count": 10,
   "id": "3d2c137b",
   "metadata": {},
   "outputs": [
    {
     "name": "stderr",
     "output_type": "stream",
     "text": [
      "c:\\Users\\saadt\\AppData\\Local\\Programs\\Python\\Python311\\Lib\\site-packages\\keras\\src\\layers\\convolutional\\base_conv.py:107: UserWarning: Do not pass an `input_shape`/`input_dim` argument to a layer. When using Sequential models, prefer using an `Input(shape)` object as the first layer in the model instead.\n",
      "  super().__init__(activity_regularizer=activity_regularizer, **kwargs)\n"
     ]
    }
   ],
   "source": [
    "#Building CNN Model:\n",
    "model = models.Sequential()\n",
    "\n",
    "#First convolutional layer:\n",
    "model.add(layers.Conv2D(32, (3,3), activation='relu', input_shape=(28,28,1)))\n",
    "\n",
    "#Second convolutional layer:\n",
    "model.add(layers.MaxPooling2D((2,2)))\n",
    "\n",
    "#Third convolutional layer:\n",
    "model.add(layers.Conv2D(64, (3,3), activation='relu'))\n",
    "\n",
    "#Flatten the 3d output to 1d and add a dense layer:\n",
    "model.add(layers.Flatten())\n",
    "model.add(layers.Dense(64, activation='relu'))\n",
    "\n",
    "#Output layers with 10 neurons (for 10 digit classes)\n",
    "model.add(layers.Dense(10, activation='softmax'))"
   ]
  },
  {
   "cell_type": "code",
   "execution_count": 11,
   "id": "a2984922",
   "metadata": {},
   "outputs": [],
   "source": [
    "#Compile the model:\n",
    "model.compile(\n",
    "            optimizer='adam',\n",
    "            loss='categorical_crossentropy',\n",
    "            metrics=['accuracy']\n",
    "            )"
   ]
  },
  {
   "cell_type": "code",
   "execution_count": 12,
   "id": "77ab1157",
   "metadata": {},
   "outputs": [
    {
     "name": "stdout",
     "output_type": "stream",
     "text": [
      "Epoch 1/5\n",
      "\u001b[1m938/938\u001b[0m \u001b[32m━━━━━━━━━━━━━━━━━━━━\u001b[0m\u001b[37m\u001b[0m \u001b[1m10s\u001b[0m 10ms/step - accuracy: 0.9012 - loss: 0.3232 - val_accuracy: 0.9827 - val_loss: 0.0521\n",
      "Epoch 2/5\n",
      "\u001b[1m938/938\u001b[0m \u001b[32m━━━━━━━━━━━━━━━━━━━━\u001b[0m\u001b[37m\u001b[0m \u001b[1m9s\u001b[0m 9ms/step - accuracy: 0.9849 - loss: 0.0469 - val_accuracy: 0.9839 - val_loss: 0.0479\n",
      "Epoch 3/5\n",
      "\u001b[1m938/938\u001b[0m \u001b[32m━━━━━━━━━━━━━━━━━━━━\u001b[0m\u001b[37m\u001b[0m \u001b[1m9s\u001b[0m 9ms/step - accuracy: 0.9909 - loss: 0.0281 - val_accuracy: 0.9880 - val_loss: 0.0373\n",
      "Epoch 4/5\n",
      "\u001b[1m938/938\u001b[0m \u001b[32m━━━━━━━━━━━━━━━━━━━━\u001b[0m\u001b[37m\u001b[0m \u001b[1m9s\u001b[0m 10ms/step - accuracy: 0.9938 - loss: 0.0179 - val_accuracy: 0.9890 - val_loss: 0.0337\n",
      "Epoch 5/5\n",
      "\u001b[1m938/938\u001b[0m \u001b[32m━━━━━━━━━━━━━━━━━━━━\u001b[0m\u001b[37m\u001b[0m \u001b[1m9s\u001b[0m 10ms/step - accuracy: 0.9963 - loss: 0.0130 - val_accuracy: 0.9893 - val_loss: 0.0352\n"
     ]
    },
    {
     "data": {
      "text/plain": [
       "<keras.src.callbacks.history.History at 0x1618805c850>"
      ]
     },
     "execution_count": 12,
     "metadata": {},
     "output_type": "execute_result"
    }
   ],
   "source": [
    "#Train the model:\n",
    "model.fit(train_images, train_labels, epochs=5, batch_size=64, validation_data=(test_images, test_labels))"
   ]
  },
  {
   "cell_type": "code",
   "execution_count": 17,
   "id": "d0f7de9c",
   "metadata": {},
   "outputs": [
    {
     "name": "stdout",
     "output_type": "stream",
     "text": [
      "\u001b[1m313/313\u001b[0m \u001b[32m━━━━━━━━━━━━━━━━━━━━\u001b[0m\u001b[37m\u001b[0m \u001b[1m2s\u001b[0m 6ms/step - accuracy: 0.9865 - loss: 0.0441\n",
      "Test Accuracy:0.989300012588501\n"
     ]
    }
   ],
   "source": [
    "# Evaluate the model on test data:\n",
    "test_loss, test_acc = model.evaluate(test_images, test_labels)\n",
    "\n",
    "print(f\"Test Accuracy:{test_acc}\")"
   ]
  },
  {
   "cell_type": "code",
   "execution_count": null,
   "id": "c259e574",
   "metadata": {},
   "outputs": [
    {
     "name": "stdout",
     "output_type": "stream",
     "text": [
      "\u001b[1m313/313\u001b[0m \u001b[32m━━━━━━━━━━━━━━━━━━━━\u001b[0m\u001b[37m\u001b[0m \u001b[1m1s\u001b[0m 4ms/step\n",
      "Prediction for the first test image: 7\n"
     ]
    }
   ],
   "source": [
    "#Make Predictions:\n",
    "# predictions = model.predict(test_images)\n",
    "\n",
    "# print(f\"Prediction for the first test image: {np.argmax(predictions[0])}\")"
   ]
  },
  {
   "cell_type": "code",
   "execution_count": null,
   "id": "d7956b7d",
   "metadata": {},
   "outputs": [
    {
     "data": {
      "text/plain": [
       "Text(0.5, 1.0, 'Predicted label: 2')"
      ]
     },
     "execution_count": 45,
     "metadata": {},
     "output_type": "execute_result"
    },
    {
     "data": {
      "image/png": "[encoded data removed]",
      "text/plain": [
       "<Figure size 640x480 with 1 Axes>"
      ]
     },
     "metadata": {},
     "output_type": "display_data"
    }
   ],
   "source": [
    "#Visualization:\n",
    "\n",
    "# plt.imshow(test_images[1].reshape(28,28), cmap='gray')\n",
    "# plt.title(f\"Predicted label: {predictions[1].argmax()}\")"
   ]
  },
  {
   "cell_type": "code",
   "execution_count": null,
   "id": "89d7bf69",
   "metadata": {},
   "outputs": [
    {
     "name": "stdout",
     "output_type": "stream",
     "text": [
      "\u001b[1m1/1\u001b[0m \u001b[32m━━━━━━━━━━━━━━━━━━━━\u001b[0m\u001b[37m\u001b[0m \u001b[1m0s\u001b[0m 58ms/step\n",
      "🧠 Predicted Digit: 0\n"
     ]
    },
    {
     "data": {
      "text/plain": [
       "np.int64(2)"
      ]
     },
     "execution_count": 13,
     "metadata": {},
     "output_type": "execute_result"
    }
   ],
   "source": [
    "# Function to preprocess the image using PIL\n",
    "def preprocess_image(image_path):\n",
    "    # Open the image and convert to grayscale\n",
    "    img = Image.open(image_path).convert('L')\n",
    "\n",
    "    # Resize to 28x28 pixels\n",
    "    img = img.resize((28, 28))\n",
    "\n",
    "    # Invert colors if background is white (optional)\n",
    "    img = ImageOps.invert(img)\n",
    "\n",
    "    # Convert to NumPy array\n",
    "    img_array = np.array(img)\n",
    "\n",
    "    # Normalize pixel values to [0, 1]\n",
    "    img_array = img_array / 255.0\n",
    "\n",
    "    # Reshape to (1, 28, 28, 1) as expected by the model\n",
    "    img_array = img_array.reshape(1, 28, 28, 1)\n",
    "\n",
    "    return img_array\n",
    "\n",
    "# Function to predict the digit\n",
    "def predict_digit(image_path):\n",
    "    img_input = preprocess_image(image_path)\n",
    "    prediction = model.predict(img_input)\n",
    "    predicted_digit = np.argmax(prediction)\n",
    "    print(f\"🧠 Predicted Digit: {predicted_digit}\")\n",
    "    return predicted_digit\n"
   ]
  },
  {
   "cell_type": "code",
   "execution_count": null,
   "id": "f173d52d",
   "metadata": {},
   "outputs": [],
   "source": [
    "# User input\n",
    "image_path = input(\"Enter path to the image with extension:\")  # Replace with your actual image file\n",
    "predict_digit(image_path)"
   ]
  }
 ],
 "metadata": {
  "kernelspec": {
   "display_name": "Python 3",
   "language": "python",
   "name": "python3"
  },
  "language_info": {
   "codemirror_mode": {
    "name": "ipython",
    "version": 3
   },
   "file_extension": ".py",
   "mimetype": "text/x-python",
   "name": "python",
   "nbconvert_exporter": "python",
   "pygments_lexer": "ipython3",
   "version": "3.11.9"
  }
 },
 "nbformat": 4,
 "nbformat_minor": 5
}
